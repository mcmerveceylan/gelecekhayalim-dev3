{
 "cells": [
  {
   "cell_type": "code",
   "execution_count": null,
   "metadata": {},
   "outputs": [],
   "source": [
    "def dairenin_alani(pi, yaricap):\n",
    "   \n",
    "    alan = pi * (yaricap ** 2)\n",
    "    return alan\n",
    "\n",
    "\n",
    "pi = float(input(\"Pi değerini girin: \"))\n",
    "yaricap = float(input(\"Yarıçapı girin: \"))\n",
    "\n",
    "alan = dairenin_alani(pi, yaricap)\n",
    "\n",
    "print(\"Dairenin Alanı:\", alan)"
   ]
  },
  {
   "cell_type": "code",
   "execution_count": null,
   "metadata": {},
   "outputs": [],
   "source": [
    "def faktoriyel(sayi):\n",
    "   \n",
    "    sonuc = 1\n",
    "    for i in range(1, sayi + 1):\n",
    "        sonuc *= i\n",
    "    return sonuc\n",
    "\n",
    "\n",
    "sayi = int(input(\"Faktöriyeli hesaplanacak sayıyı girin: \"))\n",
    "sonuc = faktoriyel(sayi)\n",
    "\n",
    "print(\"Faktöriyel({}) = {}\".format(sayi, sonuc))"
   ]
  },
  {
   "cell_type": "code",
   "execution_count": null,
   "metadata": {},
   "outputs": [],
   "source": [
    "def yas_hesapla(dogum_yili):\n",
    "    \n",
    "    from datetime import datetime\n",
    "    simdiki_yil = datetime.now().year\n",
    "    \n",
    "    yas = simdiki_yil - dogum_yili\n",
    "    return yas\n",
    "\n",
    "dogum_yili = int(input(\"Doğum yılınızı girin: \"))\n",
    "\n",
    "\n",
    "yas = yas_hesapla(dogum_yili)\n",
    "\n",
    "print(\"Yaşınız:\", yas)"
   ]
  },
  {
   "cell_type": "code",
   "execution_count": null,
   "metadata": {},
   "outputs": [],
   "source": [
    "def yas_hesapla(dogum_yili):\n",
    "    from datetime import datetime\n",
    "    simdiki_yil = datetime.now().year\n",
    "    yas = simdiki_yil - dogum_yili\n",
    "    return yas\n",
    "\n",
    "def emeklilik_durumu(isim, dogum_yili):\n",
    "    yas = yas_hesapla(dogum_yili)  \n",
    "    if yas >= 65:\n",
    "        return \"{} emekli oldunuz.\".format(isim)\n",
    "    else:\n",
    "        kalan_yil = 65 - yas\n",
    "        return \"{} emekliliğine {} yıl kaldı.\".format(isim, kalan_yil)\n",
    "\n",
    "\n",
    "isim = input(\"İsminizi girin: \")\n",
    "dogum_yili = int(input(\"Doğum yılınızı girin: \"))\n",
    "\n",
    "\n",
    "sonuc = emeklilik_durumu(isim, dogum_yili)\n",
    "print(sonuc)"
   ]
  }
 ],
 "metadata": {
  "kernelspec": {
   "display_name": "Python 3",
   "language": "python",
   "name": "python3"
  },
  "language_info": {
   "codemirror_mode": {
    "name": "ipython",
    "version": 3
   },
   "file_extension": ".py",
   "mimetype": "text/x-python",
   "name": "python",
   "nbconvert_exporter": "python",
   "pygments_lexer": "ipython3",
   "version": "3.8.5"
  }
 },
 "nbformat": 4,
 "nbformat_minor": 4
}
